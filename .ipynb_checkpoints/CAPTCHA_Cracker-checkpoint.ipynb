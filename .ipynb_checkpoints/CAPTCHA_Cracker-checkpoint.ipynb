{
 "cells": [
  {
   "cell_type": "code",
   "execution_count": 1,
   "metadata": {},
   "outputs": [],
   "source": [
    "import matplotlib.pyplot as plt\n",
    "import numpy as np"
   ]
  },
  {
   "cell_type": "code",
   "execution_count": 2,
   "metadata": {},
   "outputs": [],
   "source": [
    "symbols = '0123456789ABCDEFGHIJKLMNOPQRSTUVWXYZ'\n",
    "\n",
    "img_width = 140\n",
    "img_height = 80\n",
    "n_class = len(symbols) # len(symbols) == 36\n",
    "num_char = 4"
   ]
  },
  {
   "cell_type": "markdown",
   "metadata": {},
   "source": [
    "# Data generator"
   ]
  },
  {
   "cell_type": "code",
   "execution_count": 3,
   "metadata": {},
   "outputs": [],
   "source": [
    "from captcha.image import ImageCaptcha\n",
    "import random\n",
    "\n",
    "def gen(batch_size=64, save_img = False, save_dir = ''):\n",
    "    X = np.empty((batch_size, img_height, img_width, 3), dtype=np.uint8)\n",
    "    Y = [np.empty((batch_size, n_class), dtype=np.uint8) for i in range(num_char)]\n",
    "    generator = ImageCaptcha(width=img_width, height=img_height)\n",
    "    while True:\n",
    "        for i in range(batch_size):\n",
    "            random_str = ''.join(random.sample(symbols, num_char))\n",
    "            img = generator.generate_image(random_str)\n",
    "            if save_img == True:\n",
    "                plt.imsave(save_dir+random_str+\".jpg\",np.array(img))\n",
    "            X[i] = img\n",
    "            for digit, ch in enumerate(random_str):\n",
    "                Y[digit][i, :] = 0\n",
    "                Y[digit][i, symbols.find(ch)] = 1\n",
    "        yield X, Y\n",
    "        \n",
    "# Decoder\n",
    "def decode(y):\n",
    "    y = np.argmax(np.array(y), axis=2)[:,0]\n",
    "    return ''.join([symbols[c] for c in y])"
   ]
  },
  {
   "cell_type": "markdown",
   "metadata": {},
   "source": [
    "# Test"
   ]
  },
  {
   "cell_type": "code",
   "execution_count": 4,
   "metadata": {},
   "outputs": [
    {
     "data": {
      "text/plain": [
       "(-0.5, 139.5, 79.5, -0.5)"
      ]
     },
     "execution_count": 4,
     "metadata": {},
     "output_type": "execute_result"
    },
    {
     "data": {
      "image/png": "[encoded data removed]",
      "text/plain": [
       "<matplotlib.figure.Figure at 0x29918495940>"
      ]
     },
     "metadata": {},
     "output_type": "display_data"
    }
   ],
   "source": [
    "(X, y) = next(gen(1))\n",
    "plt.imshow(X[0])\n",
    "plt.title(decode(y))\n",
    "plt.axis('off')"
   ]
  },
  {
   "cell_type": "markdown",
   "metadata": {},
   "source": [
    "# CNN"
   ]
  },
  {
   "cell_type": "code",
   "execution_count": 5,
   "metadata": {},
   "outputs": [],
   "source": [
    "from keras.models import *\n",
    "from keras.layers import *\n",
    "\n",
    "input_layer = Input(shape = (img_height, img_width, 3))\n",
    "layers = Conv2D(32, (3, 3), activation='relu')(input_layer)\n",
    "layers = Conv2D(32, (3, 3), activation='relu')(layers)\n",
    "layers = MaxPooling2D((2, 2))(layers)\n",
    "\n",
    "layers = Conv2D(64, (3, 3), activation='relu')(layers)\n",
    "layers = Conv2D(64, (3, 3), activation='relu')(layers)\n",
    "layers = MaxPooling2D((2, 2))(layers)\n",
    "\n",
    "layers = Conv2D(128, (3, 3), activation='relu')(layers)\n",
    "layers = Conv2D(128, (3, 3), activation='relu')(layers)\n",
    "layers = MaxPooling2D((2, 2))(layers)\n",
    "\n",
    "layers = Conv2D(256, (3, 3), activation='relu')(layers)\n",
    "layers = Conv2D(256, (3, 3), activation='relu')(layers)\n",
    "layers = MaxPooling2D((2, 2))(layers)\n",
    "\n",
    "layers = Flatten()(layers)\n",
    "layers = Dropout(0.2)(layers)\n",
    "layers = [Dense(n_class, activation='softmax',  name='digit_%d'%i)(layers) for i in range(4)]\n",
    "\n",
    "model = Model(inputs = input_layer, outputs = layers)\n",
    "\n",
    "model.compile(loss='categorical_crossentropy',\n",
    "              optimizer='adadelta',\n",
    "              metrics=['accuracy'])"
   ]
  },
  {
   "cell_type": "markdown",
   "metadata": {},
   "source": [
    "# Training"
   ]
  },
  {
   "cell_type": "code",
   "execution_count": 6,
   "metadata": {
    "scrolled": false
   },
   "outputs": [
    {
     "name": "stdout",
     "output_type": "stream",
     "text": [
      "Epoch 1/5\n",
      " - 1604s - loss: 1.9347 - digit_0_loss: 0.5262 - digit_1_loss: 0.4415 - digit_2_loss: 0.4864 - digit_3_loss: 0.4806 - digit_0_acc: 0.8651 - digit_1_acc: 0.8892 - digit_2_acc: 0.8775 - digit_3_acc: 0.8786 - val_loss: 1.4221 - val_digit_0_loss: 0.3418 - val_digit_1_loss: 0.3615 - val_digit_2_loss: 0.3646 - val_digit_3_loss: 0.3542 - val_digit_0_acc: 0.9712 - val_digit_1_acc: 0.9683 - val_digit_2_acc: 0.9651 - val_digit_3_acc: 0.9650\n",
      "Epoch 2/5\n",
      " - 1611s - loss: 0.4750 - digit_0_loss: 0.1143 - digit_1_loss: 0.1147 - digit_2_loss: 0.1241 - digit_3_loss: 0.1219 - digit_0_acc: 0.9858 - digit_1_acc: 0.9848 - digit_2_acc: 0.9829 - digit_3_acc: 0.9838 - val_loss: 1.0797 - val_digit_0_loss: 0.2613 - val_digit_1_loss: 0.2715 - val_digit_2_loss: 0.2761 - val_digit_3_loss: 0.2709 - val_digit_0_acc: 0.9729 - val_digit_1_acc: 0.9696 - val_digit_2_acc: 0.9699 - val_digit_3_acc: 0.9700\n",
      "Epoch 3/5\n",
      " - 1619s - loss: 0.6004 - digit_0_loss: 0.1453 - digit_1_loss: 0.1453 - digit_2_loss: 0.1556 - digit_3_loss: 0.1542 - digit_0_acc: 0.9832 - digit_1_acc: 0.9820 - digit_2_acc: 0.9803 - digit_3_acc: 0.9814 - val_loss: 1.0555 - val_digit_0_loss: 0.2541 - val_digit_1_loss: 0.2592 - val_digit_2_loss: 0.2760 - val_digit_3_loss: 0.2661 - val_digit_0_acc: 0.9717 - val_digit_1_acc: 0.9714 - val_digit_2_acc: 0.9690 - val_digit_3_acc: 0.9717\n",
      "Epoch 4/5\n",
      " - 1628s - loss: 0.7367 - digit_0_loss: 0.1788 - digit_1_loss: 0.1787 - digit_2_loss: 0.1908 - digit_3_loss: 0.1883 - digit_0_acc: 0.9796 - digit_1_acc: 0.9783 - digit_2_acc: 0.9769 - digit_3_acc: 0.9778 - val_loss: 0.9997 - val_digit_0_loss: 0.2438 - val_digit_1_loss: 0.2519 - val_digit_2_loss: 0.2477 - val_digit_3_loss: 0.2563 - val_digit_0_acc: 0.9705 - val_digit_1_acc: 0.9704 - val_digit_2_acc: 0.9708 - val_digit_3_acc: 0.9707\n",
      "Epoch 5/5\n",
      " - 1594s - loss: 0.4438 - digit_0_loss: 0.1068 - digit_1_loss: 0.1076 - digit_2_loss: 0.1159 - digit_3_loss: 0.1136 - digit_0_acc: 0.9880 - digit_1_acc: 0.9872 - digit_2_acc: 0.9861 - digit_3_acc: 0.9868 - val_loss: 0.9884 - val_digit_0_loss: 0.2425 - val_digit_1_loss: 0.2506 - val_digit_2_loss: 0.2486 - val_digit_3_loss: 0.2466 - val_digit_0_acc: 0.9723 - val_digit_1_acc: 0.9717 - val_digit_2_acc: 0.9720 - val_digit_3_acc: 0.9727\n"
     ]
    }
   ],
   "source": [
    "batch_size = 256\n",
    "samples =64000\n",
    "val_samples = 1024\n",
    "h = model.fit_generator(gen(batch_size = batch_size), steps_per_epoch = samples/batch_size, epochs=5,\n",
    "                        validation_data=gen(batch_size = batch_size), validation_steps = val_samples/batch_size, \n",
    "                        verbose = 1)"
   ]
  },
  {
   "cell_type": "markdown",
   "metadata": {},
   "source": [
    "# Testing accuracy of trained model"
   ]
  },
  {
   "cell_type": "code",
   "execution_count": 8,
   "metadata": {},
   "outputs": [
    {
     "name": "stdout",
     "output_type": "stream",
     "text": [
      "N0DU NODU\n",
      "X0D2 XOD2\n",
      "YOPJ Y0PJ\n",
      "4T0A 4TOA\n",
      "02PC O2PC\n",
      "6059 6O59\n",
      "D10J D1OJ\n",
      "T54I T5AI\n",
      "X0MS XOMS\n",
      "F0QE FOQE\n",
      "U80N U8ON\n",
      "0VMU OVMU\n",
      "EL9O EL90\n"
     ]
    },
    {
     "data": {
      "text/plain": [
       "0.987"
      ]
     },
     "execution_count": 8,
     "metadata": {},
     "output_type": "execute_result"
    }
   ],
   "source": [
    "def evaluate(model, test_num=1000):\n",
    "    correct = 0\n",
    "    generator = gen(1,save_img = True, save_dir = 'test_img/')\n",
    "    for i in range(test_num):\n",
    "        X, y = next(generator)\n",
    "        y_pred = model.predict(X)\n",
    "        y = decode(y)\n",
    "        y_pred = decode(y_pred)\n",
    "        #print(y, y_pred)\n",
    "        if y == y_pred:\n",
    "            correct += 1\n",
    "        else:\n",
    "            print(y, y_pred) #print wrong prediction\n",
    "    return correct / test_num\n",
    "\n",
    "test_acc = evaluate(model)"
   ]
  },
  {
   "cell_type": "markdown",
   "metadata": {},
   "source": [
    "# Test Sample"
   ]
  },
  {
   "cell_type": "code",
   "execution_count": 9,
   "metadata": {},
   "outputs": [
    {
     "data": {
      "text/plain": [
       "(-0.5, 139.5, 79.5, -0.5)"
      ]
     },
     "execution_count": 9,
     "metadata": {},
     "output_type": "execute_result"
    },
    {
     "data": {
      "image/png": "[encoded data removed]",
      "text/plain": [
       "<matplotlib.figure.Figure at 0x299121b47f0>"
      ]
     },
     "metadata": {},
     "output_type": "display_data"
    }
   ],
   "source": [
    "X, y = next(gen(1))\n",
    "y_pred = model.predict(X)\n",
    "plt.title('Real: %s    Predict: %s'%(decode(y), decode(y_pred)))\n",
    "plt.imshow(X[0], cmap='gray')\n",
    "plt.axis('off')"
   ]
  },
  {
   "cell_type": "markdown",
   "metadata": {},
   "source": [
    "# Save/Load model"
   ]
  },
  {
   "cell_type": "code",
   "execution_count": 9,
   "metadata": {},
   "outputs": [],
   "source": [
    "model.save('CAPTCHA_Cracker.h5')"
   ]
  },
  {
   "cell_type": "code",
   "execution_count": 6,
   "metadata": {},
   "outputs": [],
   "source": [
    "from keras.models import load_model\n",
    "model = load_model('trained_cnn.h5')"
   ]
  },
  {
   "cell_type": "code",
   "execution_count": null,
   "metadata": {},
   "outputs": [],
   "source": []
  }
 ],
 "metadata": {
  "kernelspec": {
   "display_name": "Python 3",
   "language": "python",
   "name": "python3"
  },
  "language_info": {
   "codemirror_mode": {
    "name": "ipython",
    "version": 3
   },
   "file_extension": ".py",
   "mimetype": "text/x-python",
   "name": "python",
   "nbconvert_exporter": "python",
   "pygments_lexer": "ipython3",
   "version": "3.5.4"
  }
 },
 "nbformat": 4,
 "nbformat_minor": 2
}
