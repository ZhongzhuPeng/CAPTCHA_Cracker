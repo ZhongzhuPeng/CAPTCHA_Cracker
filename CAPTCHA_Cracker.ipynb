{
 "cells": [
  {
   "cell_type": "code",
   "execution_count": 1,
   "metadata": {},
   "outputs": [],
   "source": [
    "import matplotlib.pyplot as plt\n",
    "import numpy as np"
   ]
  },
  {
   "cell_type": "code",
   "execution_count": 2,
   "metadata": {},
   "outputs": [],
   "source": [
    "symbols = '0123456789ABCDEFGHIJKLMNOPQRSTUVWXYZ'\n",
    "\n",
    "img_width = 140\n",
    "img_height = 80\n",
    "n_class = len(symbols) # len(symbols) == 36\n",
    "num_char = 4"
   ]
  },
  {
   "cell_type": "markdown",
   "metadata": {},
   "source": [
    "# Data generator"
   ]
  },
  {
   "cell_type": "code",
   "execution_count": 3,
   "metadata": {},
   "outputs": [],
   "source": [
    "from captcha.image import ImageCaptcha\n",
    "import random\n",
    "\n",
    "def gen(batch_size=64, save_img = False, save_dir = ''):\n",
    "    X = np.empty((batch_size, img_height, img_width, 3), dtype=np.uint8)\n",
    "    Y = [np.empty((batch_size, n_class), dtype=np.uint8) for i in range(num_char)]\n",
    "    generator = ImageCaptcha(width=img_width, height=img_height)\n",
    "    while True:\n",
    "        for i in range(batch_size):\n",
    "            random_str = ''.join(random.sample(symbols, num_char))\n",
    "            img = generator.generate_image(random_str)\n",
    "            if save_img == True:\n",
    "                plt.imsave(save_dir+random_str+\".jpg\",np.array(img))\n",
    "            X[i] = img\n",
    "            for digit, ch in enumerate(random_str):\n",
    "                Y[digit][i, :] = 0\n",
    "                Y[digit][i, symbols.find(ch)] = 1\n",
    "        yield X, Y\n",
    "        \n",
    "# Decoder\n",
    "def decode(y):\n",
    "    y = np.argmax(np.array(y), axis=2)[:,0]\n",
    "    return ''.join([symbols[c] for c in y])"
   ]
  },
  {
   "cell_type": "markdown",
   "metadata": {},
   "source": [
    "# Test"
   ]
  },
  {
   "cell_type": "code",
   "execution_count": 4,
   "metadata": {},
   "outputs": [
    {
     "data": {
      "text/plain": [
       "(-0.5, 139.5, 79.5, -0.5)"
      ]
     },
     "execution_count": 4,
     "metadata": {},
     "output_type": "execute_result"
    },
    {
     "data": {
      "image/png": "[encoded data removed]",
      "text/plain": [
       "<matplotlib.figure.Figure at 0x238ac89ca20>"
      ]
     },
     "metadata": {},
     "output_type": "display_data"
    }
   ],
   "source": [
    "(X, y) = next(gen(1))\n",
    "plt.imshow(X[0])\n",
    "plt.title(decode(y))\n",
    "plt.axis('off')"
   ]
  },
  {
   "cell_type": "markdown",
   "metadata": {},
   "source": [
    "# CNN"
   ]
  },
  {
   "cell_type": "code",
   "execution_count": 5,
   "metadata": {},
   "outputs": [
    {
     "name": "stderr",
     "output_type": "stream",
     "text": [
      "c:\\users\\zhongzhu\\anaconda3\\envs\\tensorflow\\lib\\site-packages\\h5py\\__init__.py:36: FutureWarning: Conversion of the second argument of issubdtype from `float` to `np.floating` is deprecated. In future, it will be treated as `np.float64 == np.dtype(float).type`.\n",
      "  from ._conv import register_converters as _register_converters\n",
      "Using TensorFlow backend.\n"
     ]
    }
   ],
   "source": [
    "from keras.models import *\n",
    "from keras.layers import *\n",
    "\n",
    "input_layer = Input(shape = (img_height, img_width, 3))\n",
    "layers = Conv2D(32, (3, 3), activation='relu')(input_layer)\n",
    "layers = Conv2D(32, (3, 3), activation='relu')(layers)\n",
    "layers = MaxPooling2D((2, 2))(layers)\n",
    "\n",
    "layers = Conv2D(64, (3, 3), activation='relu')(layers)\n",
    "layers = Conv2D(64, (3, 3), activation='relu')(layers)\n",
    "layers = MaxPooling2D((2, 2))(layers)\n",
    "\n",
    "layers = Conv2D(128, (3, 3), activation='relu')(layers)\n",
    "layers = Conv2D(128, (3, 3), activation='relu')(layers)\n",
    "layers = MaxPooling2D((2, 2))(layers)\n",
    "\n",
    "layers = Conv2D(256, (3, 3), activation='relu')(layers)\n",
    "layers = Conv2D(256, (3, 3), activation='relu')(layers)\n",
    "layers = MaxPooling2D((2, 2))(layers)\n",
    "\n",
    "layers = Flatten()(layers)\n",
    "layers = Dropout(0.2)(layers)\n",
    "output_layers = [Dense(n_class, activation='softmax',  name='digit_%d'%i)(layers) for i in range(4)]\n",
    "\n",
    "model = Model(inputs = input_layer, outputs = output_layers)\n",
    "\n",
    "model.compile(loss='categorical_crossentropy',\n",
    "              optimizer='adadelta',\n",
    "              metrics=['accuracy'])"
   ]
  },
  {
   "cell_type": "markdown",
   "metadata": {},
   "source": [
    "# Training"
   ]
  },
  {
   "cell_type": "code",
   "execution_count": 6,
   "metadata": {
    "scrolled": false
   },
   "outputs": [
    {
     "name": "stdout",
     "output_type": "stream",
     "text": [
      "Epoch 1/20\n",
      " - 161s - loss: 14.4393 - digit_0_loss: 3.6121 - digit_1_loss: 3.6084 - digit_2_loss: 3.6133 - digit_3_loss: 3.6056 - digit_0_acc: 0.0298 - digit_1_acc: 0.0330 - digit_2_acc: 0.0334 - digit_3_acc: 0.0327 - val_loss: 14.1523 - val_digit_0_loss: 3.5784 - val_digit_1_loss: 3.5265 - val_digit_2_loss: 3.5177 - val_digit_3_loss: 3.5297 - val_digit_0_acc: 0.0322 - val_digit_1_acc: 0.0498 - val_digit_2_acc: 0.0459 - val_digit_3_acc: 0.0469\n",
      "Epoch 2/20\n",
      " - 155s - loss: 8.9180 - digit_0_loss: 2.7708 - digit_1_loss: 1.9531 - digit_2_loss: 2.0999 - digit_3_loss: 2.0942 - digit_0_acc: 0.2367 - digit_1_acc: 0.4407 - digit_2_acc: 0.4024 - digit_3_acc: 0.4074 - val_loss: 3.4777 - val_digit_0_loss: 1.0451 - val_digit_1_loss: 0.7434 - val_digit_2_loss: 0.8516 - val_digit_3_loss: 0.8378 - val_digit_0_acc: 0.7109 - val_digit_1_acc: 0.8135 - val_digit_2_acc: 0.7754 - val_digit_3_acc: 0.7969\n",
      "Epoch 3/20\n",
      " - 155s - loss: 2.2635 - digit_0_loss: 0.6842 - digit_1_loss: 0.4538 - digit_2_loss: 0.5672 - digit_3_loss: 0.5583 - digit_0_acc: 0.8065 - digit_1_acc: 0.8855 - digit_2_acc: 0.8545 - digit_3_acc: 0.8577 - val_loss: 1.9209 - val_digit_0_loss: 0.4599 - val_digit_1_loss: 0.4158 - val_digit_2_loss: 0.5360 - val_digit_3_loss: 0.5092 - val_digit_0_acc: 0.9316 - val_digit_1_acc: 0.9385 - val_digit_2_acc: 0.9082 - val_digit_3_acc: 0.9111\n",
      "Epoch 4/20\n",
      " - 160s - loss: 1.2612 - digit_0_loss: 0.3281 - digit_1_loss: 0.2695 - digit_2_loss: 0.3349 - digit_3_loss: 0.3286 - digit_0_acc: 0.9274 - digit_1_acc: 0.9477 - digit_2_acc: 0.9266 - digit_3_acc: 0.9302 - val_loss: 1.0729 - val_digit_0_loss: 0.2604 - val_digit_1_loss: 0.2508 - val_digit_2_loss: 0.2875 - val_digit_3_loss: 0.2741 - val_digit_0_acc: 0.9541 - val_digit_1_acc: 0.9590 - val_digit_2_acc: 0.9443 - val_digit_3_acc: 0.9541\n",
      "Epoch 5/20\n",
      " - 169s - loss: 1.2522 - digit_0_loss: 0.3151 - digit_1_loss: 0.2846 - digit_2_loss: 0.3276 - digit_3_loss: 0.3248 - digit_0_acc: 0.9473 - digit_1_acc: 0.9546 - digit_2_acc: 0.9397 - digit_3_acc: 0.9429 - val_loss: 0.8946 - val_digit_0_loss: 0.1922 - val_digit_1_loss: 0.2409 - val_digit_2_loss: 0.2200 - val_digit_3_loss: 0.2415 - val_digit_0_acc: 0.9736 - val_digit_1_acc: 0.9639 - val_digit_2_acc: 0.9580 - val_digit_3_acc: 0.9668\n",
      "Epoch 6/20\n",
      " - 164s - loss: 0.9986 - digit_0_loss: 0.2410 - digit_1_loss: 0.2339 - digit_2_loss: 0.2611 - digit_3_loss: 0.2626 - digit_0_acc: 0.9605 - digit_1_acc: 0.9640 - digit_2_acc: 0.9533 - digit_3_acc: 0.9554 - val_loss: 0.8391 - val_digit_0_loss: 0.1870 - val_digit_1_loss: 0.1954 - val_digit_2_loss: 0.2105 - val_digit_3_loss: 0.2462 - val_digit_0_acc: 0.9697 - val_digit_1_acc: 0.9707 - val_digit_2_acc: 0.9639 - val_digit_3_acc: 0.9609\n",
      "Epoch 7/20\n",
      " - 170s - loss: 1.0994 - digit_0_loss: 0.2695 - digit_1_loss: 0.2604 - digit_2_loss: 0.2826 - digit_3_loss: 0.2869 - digit_0_acc: 0.9621 - digit_1_acc: 0.9631 - digit_2_acc: 0.9554 - digit_3_acc: 0.9579 - val_loss: 0.7590 - val_digit_0_loss: 0.1744 - val_digit_1_loss: 0.1931 - val_digit_2_loss: 0.1956 - val_digit_3_loss: 0.1959 - val_digit_0_acc: 0.9717 - val_digit_1_acc: 0.9697 - val_digit_2_acc: 0.9707 - val_digit_3_acc: 0.9707\n",
      "Epoch 8/20\n",
      " - 171s - loss: 1.0632 - digit_0_loss: 0.2621 - digit_1_loss: 0.2569 - digit_2_loss: 0.2711 - digit_3_loss: 0.2730 - digit_0_acc: 0.9646 - digit_1_acc: 0.9647 - digit_2_acc: 0.9586 - digit_3_acc: 0.9614 - val_loss: 0.6816 - val_digit_0_loss: 0.1645 - val_digit_1_loss: 0.1705 - val_digit_2_loss: 0.1855 - val_digit_3_loss: 0.1611 - val_digit_0_acc: 0.9814 - val_digit_1_acc: 0.9707 - val_digit_2_acc: 0.9717 - val_digit_3_acc: 0.9707\n",
      "Epoch 9/20\n",
      " - 170s - loss: 1.0163 - digit_0_loss: 0.2467 - digit_1_loss: 0.2474 - digit_2_loss: 0.2623 - digit_3_loss: 0.2600 - digit_0_acc: 0.9679 - digit_1_acc: 0.9656 - digit_2_acc: 0.9613 - digit_3_acc: 0.9636 - val_loss: 0.8097 - val_digit_0_loss: 0.2139 - val_digit_1_loss: 0.1839 - val_digit_2_loss: 0.2071 - val_digit_3_loss: 0.2048 - val_digit_0_acc: 0.9688 - val_digit_1_acc: 0.9775 - val_digit_2_acc: 0.9727 - val_digit_3_acc: 0.9756\n",
      "Epoch 10/20\n",
      " - 168s - loss: 0.9381 - digit_0_loss: 0.2312 - digit_1_loss: 0.2264 - digit_2_loss: 0.2395 - digit_3_loss: 0.2410 - digit_0_acc: 0.9697 - digit_1_acc: 0.9693 - digit_2_acc: 0.9651 - digit_3_acc: 0.9665 - val_loss: 0.8274 - val_digit_0_loss: 0.1975 - val_digit_1_loss: 0.2132 - val_digit_2_loss: 0.2228 - val_digit_3_loss: 0.1938 - val_digit_0_acc: 0.9756 - val_digit_1_acc: 0.9736 - val_digit_2_acc: 0.9697 - val_digit_3_acc: 0.9717\n",
      "Epoch 11/20\n",
      " - 174s - loss: 0.9766 - digit_0_loss: 0.2423 - digit_1_loss: 0.2383 - digit_2_loss: 0.2482 - digit_3_loss: 0.2479 - digit_0_acc: 0.9696 - digit_1_acc: 0.9698 - digit_2_acc: 0.9650 - digit_3_acc: 0.9666 - val_loss: 0.7667 - val_digit_0_loss: 0.1819 - val_digit_1_loss: 0.1855 - val_digit_2_loss: 0.1896 - val_digit_3_loss: 0.2097 - val_digit_0_acc: 0.9775 - val_digit_1_acc: 0.9707 - val_digit_2_acc: 0.9746 - val_digit_3_acc: 0.9619\n",
      "Epoch 12/20\n",
      " - 170s - loss: 0.9510 - digit_0_loss: 0.2357 - digit_1_loss: 0.2329 - digit_2_loss: 0.2424 - digit_3_loss: 0.2400 - digit_0_acc: 0.9708 - digit_1_acc: 0.9699 - digit_2_acc: 0.9667 - digit_3_acc: 0.9688 - val_loss: 0.7686 - val_digit_0_loss: 0.1812 - val_digit_1_loss: 0.1851 - val_digit_2_loss: 0.2027 - val_digit_3_loss: 0.1995 - val_digit_0_acc: 0.9785 - val_digit_1_acc: 0.9766 - val_digit_2_acc: 0.9717 - val_digit_3_acc: 0.9766\n",
      "Epoch 13/20\n",
      " - 167s - loss: 0.8049 - digit_0_loss: 0.1963 - digit_1_loss: 0.1967 - digit_2_loss: 0.2035 - digit_3_loss: 0.2083 - digit_0_acc: 0.9747 - digit_1_acc: 0.9736 - digit_2_acc: 0.9709 - digit_3_acc: 0.9722 - val_loss: 0.7063 - val_digit_0_loss: 0.1768 - val_digit_1_loss: 0.1736 - val_digit_2_loss: 0.1834 - val_digit_3_loss: 0.1725 - val_digit_0_acc: 0.9766 - val_digit_1_acc: 0.9775 - val_digit_2_acc: 0.9707 - val_digit_3_acc: 0.9775\n",
      "Epoch 14/20\n",
      " - 171s - loss: 0.8473 - digit_0_loss: 0.2094 - digit_1_loss: 0.2081 - digit_2_loss: 0.2127 - digit_3_loss: 0.2170 - digit_0_acc: 0.9748 - digit_1_acc: 0.9720 - digit_2_acc: 0.9703 - digit_3_acc: 0.9715 - val_loss: 0.7178 - val_digit_0_loss: 0.1805 - val_digit_1_loss: 0.1855 - val_digit_2_loss: 0.1813 - val_digit_3_loss: 0.1705 - val_digit_0_acc: 0.9746 - val_digit_1_acc: 0.9775 - val_digit_2_acc: 0.9785 - val_digit_3_acc: 0.9795\n",
      "Epoch 15/20\n",
      " - 168s - loss: 0.7843 - digit_0_loss: 0.1908 - digit_1_loss: 0.1913 - digit_2_loss: 0.1997 - digit_3_loss: 0.2024 - digit_0_acc: 0.9759 - digit_1_acc: 0.9756 - digit_2_acc: 0.9722 - digit_3_acc: 0.9731 - val_loss: 0.7136 - val_digit_0_loss: 0.1737 - val_digit_1_loss: 0.1720 - val_digit_2_loss: 0.1834 - val_digit_3_loss: 0.1845 - val_digit_0_acc: 0.9805 - val_digit_1_acc: 0.9775 - val_digit_2_acc: 0.9746 - val_digit_3_acc: 0.9795\n",
      "Epoch 16/20\n",
      " - 173s - loss: 0.8362 - digit_0_loss: 0.2080 - digit_1_loss: 0.2051 - digit_2_loss: 0.2112 - digit_3_loss: 0.2119 - digit_0_acc: 0.9755 - digit_1_acc: 0.9738 - digit_2_acc: 0.9721 - digit_3_acc: 0.9734 - val_loss: 0.6883 - val_digit_0_loss: 0.1529 - val_digit_1_loss: 0.1671 - val_digit_2_loss: 0.1871 - val_digit_3_loss: 0.1812 - val_digit_0_acc: 0.9766 - val_digit_1_acc: 0.9785 - val_digit_2_acc: 0.9756 - val_digit_3_acc: 0.9775\n",
      "Epoch 17/20\n",
      " - 170s - loss: 0.8238 - digit_0_loss: 0.2008 - digit_1_loss: 0.2047 - digit_2_loss: 0.2078 - digit_3_loss: 0.2106 - digit_0_acc: 0.9757 - digit_1_acc: 0.9742 - digit_2_acc: 0.9725 - digit_3_acc: 0.9733 - val_loss: 0.7046 - val_digit_0_loss: 0.1908 - val_digit_1_loss: 0.1777 - val_digit_2_loss: 0.1651 - val_digit_3_loss: 0.1710 - val_digit_0_acc: 0.9678 - val_digit_1_acc: 0.9766 - val_digit_2_acc: 0.9746 - val_digit_3_acc: 0.9766\n",
      "Epoch 18/20\n",
      " - 167s - loss: 0.7931 - digit_0_loss: 0.1944 - digit_1_loss: 0.1960 - digit_2_loss: 0.1998 - digit_3_loss: 0.2029 - digit_0_acc: 0.9768 - digit_1_acc: 0.9752 - digit_2_acc: 0.9740 - digit_3_acc: 0.9746 - val_loss: 0.6742 - val_digit_0_loss: 0.1533 - val_digit_1_loss: 0.1768 - val_digit_2_loss: 0.1669 - val_digit_3_loss: 0.1773 - val_digit_0_acc: 0.9814 - val_digit_1_acc: 0.9795 - val_digit_2_acc: 0.9795 - val_digit_3_acc: 0.9746\n",
      "Epoch 19/20\n",
      " - 169s - loss: 0.8041 - digit_0_loss: 0.1979 - digit_1_loss: 0.1985 - digit_2_loss: 0.2031 - digit_3_loss: 0.2045 - digit_0_acc: 0.9761 - digit_1_acc: 0.9742 - digit_2_acc: 0.9731 - digit_3_acc: 0.9745 - val_loss: 0.6780 - val_digit_0_loss: 0.1523 - val_digit_1_loss: 0.1869 - val_digit_2_loss: 0.1692 - val_digit_3_loss: 0.1696 - val_digit_0_acc: 0.9824 - val_digit_1_acc: 0.9746 - val_digit_2_acc: 0.9805 - val_digit_3_acc: 0.9785\n"
     ]
    },
    {
     "name": "stdout",
     "output_type": "stream",
     "text": [
      "Epoch 20/20\n",
      " - 155s - loss: 0.6796 - digit_0_loss: 0.1667 - digit_1_loss: 0.1658 - digit_2_loss: 0.1721 - digit_3_loss: 0.1750 - digit_0_acc: 0.9805 - digit_1_acc: 0.9789 - digit_2_acc: 0.9775 - digit_3_acc: 0.9779 - val_loss: 1.1760 - val_digit_0_loss: 0.2510 - val_digit_1_loss: 0.3234 - val_digit_2_loss: 0.2955 - val_digit_3_loss: 0.3061 - val_digit_0_acc: 0.9756 - val_digit_1_acc: 0.9658 - val_digit_2_acc: 0.9668 - val_digit_3_acc: 0.9678\n"
     ]
    }
   ],
   "source": [
    "batch_size = 256\n",
    "samples =64000\n",
    "val_samples = 1024\n",
    "h = model.fit_generator(gen(batch_size = batch_size), steps_per_epoch = samples/batch_size, epochs=20,\n",
    "                        validation_data=gen(batch_size = batch_size), validation_steps = val_samples/batch_size, \n",
    "                        verbose = 2)"
   ]
  },
  {
   "cell_type": "code",
   "execution_count": 7,
   "metadata": {},
   "outputs": [
    {
     "data": {
      "text/plain": [
       "{'digit_0_acc': [0.02978125,\n",
       "  0.23671875,\n",
       "  0.80646875,\n",
       "  0.927359375,\n",
       "  0.94734375,\n",
       "  0.9605,\n",
       "  0.962078125,\n",
       "  0.964609375,\n",
       "  0.967890625,\n",
       "  0.969671875,\n",
       "  0.969640625,\n",
       "  0.970796875,\n",
       "  0.974671875,\n",
       "  0.974765625,\n",
       "  0.975890625,\n",
       "  0.97546875,\n",
       "  0.975703125,\n",
       "  0.97675,\n",
       "  0.976109375,\n",
       "  0.980453125],\n",
       " 'digit_0_loss': [3.6121001625061036,\n",
       "  2.770836485862732,\n",
       "  0.6842043894529343,\n",
       "  0.3281490262448788,\n",
       "  0.3151040983200073,\n",
       "  0.24095696052908896,\n",
       "  0.2695136757642031,\n",
       "  0.2620929351449013,\n",
       "  0.24669546726346017,\n",
       "  0.23120902960002424,\n",
       "  0.24225817535072566,\n",
       "  0.23567036920785903,\n",
       "  0.19634677039831877,\n",
       "  0.2094311173558235,\n",
       "  0.1908328199312091,\n",
       "  0.20799026934057474,\n",
       "  0.2008070713020861,\n",
       "  0.19440658996254206,\n",
       "  0.1979382007904351,\n",
       "  0.16672664640471338],\n",
       " 'digit_1_acc': [0.033,\n",
       "  0.440703125,\n",
       "  0.885453125,\n",
       "  0.94771875,\n",
       "  0.9545625,\n",
       "  0.963953125,\n",
       "  0.963109375,\n",
       "  0.964671875,\n",
       "  0.965578125,\n",
       "  0.9693125,\n",
       "  0.969796875,\n",
       "  0.9699375,\n",
       "  0.973625,\n",
       "  0.971953125,\n",
       "  0.975578125,\n",
       "  0.9738125,\n",
       "  0.97421875,\n",
       "  0.9751875,\n",
       "  0.974203125,\n",
       "  0.978890625],\n",
       " 'digit_1_loss': [3.6083774156570434,\n",
       "  1.9530561666488648,\n",
       "  0.4538162791132927,\n",
       "  0.26950730752944946,\n",
       "  0.2846322130560875,\n",
       "  0.23387933586537837,\n",
       "  0.26040220268070696,\n",
       "  0.2569471945762634,\n",
       "  0.2473717147782445,\n",
       "  0.22643649455159903,\n",
       "  0.2382573127001524,\n",
       "  0.2329175741225481,\n",
       "  0.1967119929641485,\n",
       "  0.2081170618981123,\n",
       "  0.1912748624458909,\n",
       "  0.2051366828083992,\n",
       "  0.2046757741868496,\n",
       "  0.1960162113532424,\n",
       "  0.19847368855029346,\n",
       "  0.1658074453175068],\n",
       " 'digit_2_acc': [0.033421875,\n",
       "  0.40240625,\n",
       "  0.854515625,\n",
       "  0.926609375,\n",
       "  0.939703125,\n",
       "  0.953296875,\n",
       "  0.9554375,\n",
       "  0.958625,\n",
       "  0.961328125,\n",
       "  0.965109375,\n",
       "  0.964984375,\n",
       "  0.96675,\n",
       "  0.97090625,\n",
       "  0.9703125,\n",
       "  0.97221875,\n",
       "  0.972078125,\n",
       "  0.972515625,\n",
       "  0.97396875,\n",
       "  0.973140625,\n",
       "  0.97753125],\n",
       " 'digit_2_loss': [3.613256610870361,\n",
       "  2.0999125316143035,\n",
       "  0.5671584310531617,\n",
       "  0.3349387870132923,\n",
       "  0.3276064754128456,\n",
       "  0.2611453033089638,\n",
       "  0.28258470855653284,\n",
       "  0.2711470493301749,\n",
       "  0.2622581122219563,\n",
       "  0.23946027897298336,\n",
       "  0.24822572906315327,\n",
       "  0.24244387747347354,\n",
       "  0.20348621860146524,\n",
       "  0.2126725759357214,\n",
       "  0.19972133483737708,\n",
       "  0.21118117517232896,\n",
       "  0.20780075579881668,\n",
       "  0.19982570850849152,\n",
       "  0.20310974617302419,\n",
       "  0.17205168514698743],\n",
       " 'digit_3_acc': [0.03271875,\n",
       "  0.407390625,\n",
       "  0.857671875,\n",
       "  0.930203125,\n",
       "  0.942890625,\n",
       "  0.955421875,\n",
       "  0.957890625,\n",
       "  0.961375,\n",
       "  0.96359375,\n",
       "  0.966484375,\n",
       "  0.9665625,\n",
       "  0.968765625,\n",
       "  0.972171875,\n",
       "  0.971515625,\n",
       "  0.9730625,\n",
       "  0.973359375,\n",
       "  0.97334375,\n",
       "  0.97459375,\n",
       "  0.97453125,\n",
       "  0.977875],\n",
       " 'digit_3_loss': [3.6055637645721434,\n",
       "  2.094218596696854,\n",
       "  0.558315583884716,\n",
       "  0.3285917986035347,\n",
       "  0.3248290708959103,\n",
       "  0.2626451099812984,\n",
       "  0.2868742405474186,\n",
       "  0.27303878755867483,\n",
       "  0.25998029339313505,\n",
       "  0.2410287698805332,\n",
       "  0.24788698241114615,\n",
       "  0.24001687882840633,\n",
       "  0.20832260612398387,\n",
       "  0.21704551692306995,\n",
       "  0.20242933735996485,\n",
       "  0.2119057066142559,\n",
       "  0.21056323781609534,\n",
       "  0.20287029622495176,\n",
       "  0.20454977188259363,\n",
       "  0.17501849102973938],\n",
       " 'loss': [14.439298004150391,\n",
       "  8.918023794174195,\n",
       "  2.263494681596756,\n",
       "  1.261186921596527,\n",
       "  1.2521718631982803,\n",
       "  0.998626703441143,\n",
       "  1.0993748284578324,\n",
       "  1.0632259620428086,\n",
       "  1.0163055883049965,\n",
       "  0.9381345777511597,\n",
       "  0.9766281986832619,\n",
       "  0.9510487016439438,\n",
       "  0.8048675848841668,\n",
       "  0.8472662726044655,\n",
       "  0.7842583549916744,\n",
       "  0.8362138331532478,\n",
       "  0.8238468407392502,\n",
       "  0.7931188014447689,\n",
       "  0.8040714107751846,\n",
       "  0.6796042692363262],\n",
       " 'val_digit_0_acc': [0.0322265625,\n",
       "  0.7109375,\n",
       "  0.931640625,\n",
       "  0.9541015625,\n",
       "  0.9736328125,\n",
       "  0.9697265625,\n",
       "  0.9716796875,\n",
       "  0.9814453125,\n",
       "  0.96875,\n",
       "  0.9755859375,\n",
       "  0.9775390625,\n",
       "  0.978515625,\n",
       "  0.9765625,\n",
       "  0.974609375,\n",
       "  0.98046875,\n",
       "  0.9765625,\n",
       "  0.9677734375,\n",
       "  0.9814453125,\n",
       "  0.982421875,\n",
       "  0.9755859375],\n",
       " 'val_digit_0_loss': [3.57836651802063,\n",
       "  1.0450653731822968,\n",
       "  0.4599379748106003,\n",
       "  0.2604294456541538,\n",
       "  0.19216939434409142,\n",
       "  0.18700790219008923,\n",
       "  0.17440113425254822,\n",
       "  0.16446375474333763,\n",
       "  0.21393533423542976,\n",
       "  0.19754236191511154,\n",
       "  0.1819324865937233,\n",
       "  0.18124445155262947,\n",
       "  0.17680151388049126,\n",
       "  0.1805109791457653,\n",
       "  0.17368818446993828,\n",
       "  0.15288440138101578,\n",
       "  0.1908286027610302,\n",
       "  0.15325545147061348,\n",
       "  0.1522889044135809,\n",
       "  0.250973604619503],\n",
       " 'val_digit_1_acc': [0.0498046875,\n",
       "  0.8134765625,\n",
       "  0.9384765625,\n",
       "  0.958984375,\n",
       "  0.9638671875,\n",
       "  0.970703125,\n",
       "  0.9697265625,\n",
       "  0.970703125,\n",
       "  0.9775390625,\n",
       "  0.9736328125,\n",
       "  0.970703125,\n",
       "  0.9765625,\n",
       "  0.9775390625,\n",
       "  0.9775390625,\n",
       "  0.9775390625,\n",
       "  0.978515625,\n",
       "  0.9765625,\n",
       "  0.9794921875,\n",
       "  0.974609375,\n",
       "  0.9658203125],\n",
       " 'val_digit_1_loss': [3.526500403881073,\n",
       "  0.7433607876300812,\n",
       "  0.41582367569208145,\n",
       "  0.25083600729703903,\n",
       "  0.2409287504851818,\n",
       "  0.19541269168257713,\n",
       "  0.19308071583509445,\n",
       "  0.1705247089266777,\n",
       "  0.1839033178985119,\n",
       "  0.2132190503180027,\n",
       "  0.18548909202218056,\n",
       "  0.1851189024746418,\n",
       "  0.1736302338540554,\n",
       "  0.18545383214950562,\n",
       "  0.17199813947081566,\n",
       "  0.16707733925431967,\n",
       "  0.17767544090747833,\n",
       "  0.17676865682005882,\n",
       "  0.186886228621006,\n",
       "  0.32337766140699387],\n",
       " 'val_digit_2_acc': [0.0458984375,\n",
       "  0.775390625,\n",
       "  0.908203125,\n",
       "  0.9443359375,\n",
       "  0.9580078125,\n",
       "  0.9638671875,\n",
       "  0.970703125,\n",
       "  0.9716796875,\n",
       "  0.97265625,\n",
       "  0.9697265625,\n",
       "  0.974609375,\n",
       "  0.9716796875,\n",
       "  0.970703125,\n",
       "  0.978515625,\n",
       "  0.974609375,\n",
       "  0.9755859375,\n",
       "  0.974609375,\n",
       "  0.9794921875,\n",
       "  0.98046875,\n",
       "  0.966796875],\n",
       " 'val_digit_2_loss': [3.5177348852157593,\n",
       "  0.8515641540288925,\n",
       "  0.5359977260231972,\n",
       "  0.2875441052019596,\n",
       "  0.22002893313765526,\n",
       "  0.21052060648798943,\n",
       "  0.195572504773736,\n",
       "  0.18546970188617706,\n",
       "  0.20713207870721817,\n",
       "  0.2227780967950821,\n",
       "  0.18959593027830124,\n",
       "  0.2027338184416294,\n",
       "  0.1833614595234394,\n",
       "  0.1813325360417366,\n",
       "  0.18340323120355606,\n",
       "  0.18712257966399193,\n",
       "  0.16508063301444054,\n",
       "  0.16689416766166687,\n",
       "  0.16923558712005615,\n",
       "  0.2954980358481407],\n",
       " 'val_digit_3_acc': [0.046875,\n",
       "  0.796875,\n",
       "  0.9111328125,\n",
       "  0.9541015625,\n",
       "  0.966796875,\n",
       "  0.9609375,\n",
       "  0.970703125,\n",
       "  0.970703125,\n",
       "  0.9755859375,\n",
       "  0.9716796875,\n",
       "  0.9619140625,\n",
       "  0.9765625,\n",
       "  0.9775390625,\n",
       "  0.9794921875,\n",
       "  0.9794921875,\n",
       "  0.9775390625,\n",
       "  0.9765625,\n",
       "  0.974609375,\n",
       "  0.978515625,\n",
       "  0.9677734375],\n",
       " 'val_digit_3_loss': [3.5296745896339417,\n",
       "  0.8377540856599808,\n",
       "  0.5091598629951477,\n",
       "  0.2740798257291317,\n",
       "  0.24145030602812767,\n",
       "  0.24619577080011368,\n",
       "  0.19589974358677864,\n",
       "  0.1611388474702835,\n",
       "  0.20477832108736038,\n",
       "  0.19383170455694199,\n",
       "  0.20968922972679138,\n",
       "  0.19948221370577812,\n",
       "  0.17254769429564476,\n",
       "  0.17051959037780762,\n",
       "  0.18451732769608498,\n",
       "  0.1812459547072649,\n",
       "  0.1709851697087288,\n",
       "  0.17728301882743835,\n",
       "  0.1695999950170517,\n",
       "  0.3061039373278618],\n",
       " 'val_loss': [14.152276754379272,\n",
       "  3.477744460105896,\n",
       "  1.9209192097187042,\n",
       "  1.072889357805252,\n",
       "  0.894577369093895,\n",
       "  0.8391369730234146,\n",
       "  0.7589541077613831,\n",
       "  0.6815970093011856,\n",
       "  0.8097490668296814,\n",
       "  0.827371209859848,\n",
       "  0.7667067497968674,\n",
       "  0.7685793787240982,\n",
       "  0.7063409090042114,\n",
       "  0.717816948890686,\n",
       "  0.7136068940162659,\n",
       "  0.68833027780056,\n",
       "  0.7045698314905167,\n",
       "  0.6742012798786163,\n",
       "  0.6780107170343399,\n",
       "  1.1759532392024994]}"
      ]
     },
     "execution_count": 7,
     "metadata": {},
     "output_type": "execute_result"
    }
   ],
   "source": [
    "h.history"
   ]
  },
  {
   "cell_type": "code",
   "execution_count": 15,
   "metadata": {},
   "outputs": [
    {
     "name": "stdout",
     "output_type": "stream",
     "text": [
      "Populating the interactive namespace from numpy and matplotlib\n"
     ]
    },
    {
     "data": {
      "text/plain": [
       "Text(0,0.5,'Accuracy')"
      ]
     },
     "execution_count": 15,
     "metadata": {},
     "output_type": "execute_result"
    },
    {
     "data": {
      "image/png": "[encoded data removed]",
      "text/plain": [
       "<matplotlib.figure.Figure at 0x238b973b048>"
      ]
     },
     "metadata": {},
     "output_type": "display_data"
    }
   ],
   "source": [
    "%pylab inline\n",
    "pt0 = h.history['digit_0_acc']\n",
    "pt1 = h.history['digit_1_acc']\n",
    "pt2 = h.history['digit_2_acc']\n",
    "pt3 = h.history['digit_3_acc']\n",
    "pv0 = h.history['val_digit_0_acc']\n",
    "pv1 = h.history['val_digit_1_acc']\n",
    "pv2 = h.history['val_digit_2_acc']\n",
    "pv3 = h.history['val_digit_3_acc']\n",
    "plot(pt0[2:], 'r-', label='d0_trainning_accuracy')\n",
    "plot(pt1[2:], 'r--', label='d1_trainning_accuracy')\n",
    "plot(pt2[2:], 'r-.', label='d2_trainning_accuracy')\n",
    "plot(pt3[2:], 'r:', label='d3_trainning_accuracy')\n",
    "plot(pv0[2:], 'g-', label='d0_validation_accuracy')\n",
    "plot(pv1[2:], 'g--', label='d1_validation_accuracy')\n",
    "plot(pv2[2:], 'g-.', label='d2_validation_accuracy')\n",
    "plot(pv3[2:], 'g:', label='d3_validation_accuracy')\n",
    "pylab.legend()\n",
    "pylab.ylim(0.8, 1)\n",
    "title('Accuracy in Training')\n",
    "xlabel('Epoches')\n",
    "ylabel('Accuracy')"
   ]
  },
  {
   "cell_type": "markdown",
   "metadata": {},
   "source": [
    "# Testing accuracy of trained model"
   ]
  },
  {
   "cell_type": "code",
   "execution_count": 11,
   "metadata": {
    "scrolled": true
   },
   "outputs": [
    {
     "name": "stdout",
     "output_type": "stream",
     "text": [
      "0TQK OTQK\n",
      "JVOG JV0G\n",
      "1OTM 10TM\n",
      "O4MQ 04MQ\n",
      "KGNH KGMH\n",
      "OBY7 0BY7\n",
      "294O 2940\n",
      "L90P L9OP\n",
      "UOH0 U0H0\n",
      "0L4R OL4R\n",
      "9OD2 90D2\n",
      "53QO 53Q0\n",
      "CNO2 CN02\n",
      "AUNO AUN0\n",
      "EJ20 EJ2O\n",
      "LWO3 LW03\n",
      "FH9J FH9U\n",
      "7OWM 70WM\n",
      "0146 O146\n",
      "08VX O8VX\n",
      "G7OD G70D\n",
      "GQ0J GQOJ\n",
      "GKOW GK0W\n",
      "OKX7 0KX7\n",
      "IOPN I0PN\n",
      "9R8O 9R80\n",
      "60UT 6OUT\n",
      "0OAM OOAM\n",
      "PL0B PLOB\n",
      "0.971\n"
     ]
    }
   ],
   "source": [
    "import random\n",
    "def evaluate(model, test_num=1000):\n",
    "    correct = 0\n",
    "    generator = gen(1, save_img = False, save_dir = 'test_img/')\n",
    "    for i in range(test_num):\n",
    "        X, y = next(generator)\n",
    "        y_predict = model.predict(X)\n",
    "        y = decode(y)\n",
    "        y_predict = decode(y_predict)\n",
    "        #print(y, y_pred)\n",
    "        if y == y_predict:\n",
    "            correct += 1\n",
    "        else:\n",
    "            print(y, y_predict) #print wrong prediction\n",
    "    return correct / test_num\n",
    "\n",
    "test_acc = evaluate(model)\n",
    "print(test_acc)"
   ]
  },
  {
   "cell_type": "markdown",
   "metadata": {},
   "source": [
    "# Test Sample"
   ]
  },
  {
   "cell_type": "code",
   "execution_count": 12,
   "metadata": {},
   "outputs": [
    {
     "data": {
      "text/plain": [
       "(-0.5, 139.5, 79.5, -0.5)"
      ]
     },
     "execution_count": 12,
     "metadata": {},
     "output_type": "execute_result"
    },
    {
     "data": {
      "image/png": "[encoded data removed]",
      "text/plain": [
       "<matplotlib.figure.Figure at 0x2396ba1a630>"
      ]
     },
     "metadata": {},
     "output_type": "display_data"
    }
   ],
   "source": [
    "X, y = next(gen(1))\n",
    "y_pred = model.predict(X)\n",
    "plt.title('Real: %s    Predict: %s'%(decode(y), decode(y_pred)))\n",
    "plt.imshow(X[0], cmap='gray')\n",
    "plt.axis('off')"
   ]
  },
  {
   "cell_type": "markdown",
   "metadata": {},
   "source": [
    "# Save/Load model"
   ]
  },
  {
   "cell_type": "code",
   "execution_count": 13,
   "metadata": {},
   "outputs": [],
   "source": [
    "model.save('trained_model2.h5')"
   ]
  },
  {
   "cell_type": "code",
   "execution_count": 3,
   "metadata": {},
   "outputs": [
    {
     "name": "stderr",
     "output_type": "stream",
     "text": [
      "c:\\users\\zhongzhu\\anaconda3\\envs\\tensorflow\\lib\\site-packages\\h5py\\__init__.py:36: FutureWarning: Conversion of the second argument of issubdtype from `float` to `np.floating` is deprecated. In future, it will be treated as `np.float64 == np.dtype(float).type`.\n",
      "  from ._conv import register_converters as _register_converters\n",
      "Using TensorFlow backend.\n"
     ]
    }
   ],
   "source": [
    "from keras.models import load_model\n",
    "model = load_model('trained_cnn.h5')"
   ]
  },
  {
   "cell_type": "code",
   "execution_count": null,
   "metadata": {},
   "outputs": [],
   "source": []
  }
 ],
 "metadata": {
  "kernelspec": {
   "display_name": "Python 3",
   "language": "python",
   "name": "python3"
  },
  "language_info": {
   "codemirror_mode": {
    "name": "ipython",
    "version": 3
   },
   "file_extension": ".py",
   "mimetype": "text/x-python",
   "name": "python",
   "nbconvert_exporter": "python",
   "pygments_lexer": "ipython3",
   "version": "3.5.4"
  }
 },
 "nbformat": 4,
 "nbformat_minor": 2
}
