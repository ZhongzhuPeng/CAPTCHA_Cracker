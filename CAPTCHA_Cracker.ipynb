{
 "cells": [
  {
   "cell_type": "code",
   "execution_count": 1,
   "metadata": {},
   "outputs": [],
   "source": [
    "import matplotlib.pyplot as plt\n",
    "import numpy as np"
   ]
  },
  {
   "cell_type": "code",
   "execution_count": 2,
   "metadata": {},
   "outputs": [],
   "source": [
    "symbols = '0123456789ABCDEFGHIJKLMNOPQRSTUVWXYZ'\n",
    "\n",
    "img_width = 140\n",
    "img_height = 80\n",
    "n_class = len(symbols) # len(symbols) == 36\n",
    "num_char = 4"
   ]
  },
  {
   "cell_type": "markdown",
   "metadata": {},
   "source": [
    "# Data generator"
   ]
  },
  {
   "cell_type": "code",
   "execution_count": 15,
   "metadata": {},
   "outputs": [],
   "source": [
    "from captcha.image import ImageCaptcha\n",
    "import random\n",
    "\n",
    "def gen(batch_size=64, save_img = False, save_dir = ''):\n",
    "    X = np.empty((batch_size, img_height, img_width, 3), dtype=np.uint8)\n",
    "    Y = [np.empty((batch_size, n_class), dtype=np.uint8) for i in range(num_char)]\n",
    "    generator = ImageCaptcha(width=img_width, height=img_height)\n",
    "    while True:\n",
    "        for i in range(batch_size):\n",
    "            random_str = ''.join(random.sample(symbols, num_char))\n",
    "            img = generator.generate_image(random_str)\n",
    "            if save_img == True:\n",
    "                plt.imsave(save_dir+random_str+\".jpg\",np.array(img))\n",
    "            X[i] = img\n",
    "            for digit, ch in enumerate(random_str):\n",
    "                Y[digit][i, :] = 0\n",
    "                Y[digit][i, symbols.find(ch)] = 1\n",
    "        yield X, Y\n",
    "        \n",
    "# Decoder\n",
    "def decode(y):\n",
    "    y = np.argmax(np.array(y), axis=2)[:,0]\n",
    "    return ''.join([symbols[c] for c in y])"
   ]
  },
  {
   "cell_type": "markdown",
   "metadata": {},
   "source": [
    "# Test"
   ]
  },
  {
   "cell_type": "code",
   "execution_count": 16,
   "metadata": {},
   "outputs": [
    {
     "data": {
      "text/plain": [
       "(-0.5, 139.5, 79.5, -0.5)"
      ]
     },
     "execution_count": 16,
     "metadata": {},
     "output_type": "execute_result"
    },
    {
     "data": {
      "image/png": "[encoded data removed]",
      "text/plain": [
       "<matplotlib.figure.Figure at 0x204eb80bc88>"
      ]
     },
     "metadata": {},
     "output_type": "display_data"
    }
   ],
   "source": [
    "(X, y) = next(gen(1))\n",
    "plt.imshow(X[0])\n",
    "plt.title(decode(y))\n",
    "plt.axis('off')"
   ]
  },
  {
   "cell_type": "markdown",
   "metadata": {},
   "source": [
    "# CNN"
   ]
  },
  {
   "cell_type": "code",
   "execution_count": 5,
   "metadata": {},
   "outputs": [
    {
     "name": "stderr",
     "output_type": "stream",
     "text": [
      "c:\\users\\zhongzhu\\anaconda3\\envs\\tensorflow\\lib\\site-packages\\h5py\\__init__.py:36: FutureWarning: Conversion of the second argument of issubdtype from `float` to `np.floating` is deprecated. In future, it will be treated as `np.float64 == np.dtype(float).type`.\n",
      "  from ._conv import register_converters as _register_converters\n",
      "Using TensorFlow backend.\n"
     ]
    }
   ],
   "source": [
    "from keras.models import *\n",
    "from keras.layers import *\n",
    "\n",
    "input_layer = Input(shape = (img_height, img_width, 3))\n",
    "layers = Conv2D(32, (3, 3), activation='relu')(input_layer)\n",
    "layers = Conv2D(32, (3, 3), activation='relu')(layers)\n",
    "layers = MaxPooling2D((2, 2))(layers)\n",
    "\n",
    "layers = Conv2D(64, (3, 3), activation='relu')(layers)\n",
    "layers = Conv2D(64, (3, 3), activation='relu')(layers)\n",
    "layers = MaxPooling2D((2, 2))(layers)\n",
    "\n",
    "layers = Conv2D(128, (3, 3), activation='relu')(layers)\n",
    "layers = Conv2D(128, (3, 3), activation='relu')(layers)\n",
    "layers = MaxPooling2D((2, 2))(layers)\n",
    "\n",
    "layers = Conv2D(256, (3, 3), activation='relu')(layers)\n",
    "layers = Conv2D(256, (3, 3), activation='relu')(layers)\n",
    "layers = MaxPooling2D((2, 2))(layers)\n",
    "\n",
    "layers = Flatten()(layers)\n",
    "layers = Dropout(0.2)(layers)\n",
    "layers = [Dense(n_class, activation='softmax',  name='digit_%d'%i)(layers) for i in range(4)]\n",
    "\n",
    "model = Model(inputs = input_layer, outputs = layers)\n",
    "\n",
    "model.compile(loss='categorical_crossentropy',\n",
    "              optimizer='adadelta',\n",
    "              metrics=['accuracy'])"
   ]
  },
  {
   "cell_type": "markdown",
   "metadata": {},
   "source": [
    "# Training"
   ]
  },
  {
   "cell_type": "code",
   "execution_count": 7,
   "metadata": {
    "scrolled": false
   },
   "outputs": [],
   "source": [
    "batch_size = 256\n",
    "samples =64000\n",
    "val_samples = 1024\n",
    "h = model.fit_generator(gen(batch_size = batch_size), steps_per_epoch = samples/batch_size, epochs=15,\n",
    "                        validation_data=gen(batch_size = batch_size), validation_steps = val_samples/batch_size, \n",
    "                        verbose = 0)"
   ]
  },
  {
   "cell_type": "code",
   "execution_count": 8,
   "metadata": {},
   "outputs": [
    {
     "data": {
      "text/plain": [
       "{'digit_0_acc': [0.026953125,\n",
       "  0.09371875,\n",
       "  0.707578125,\n",
       "  0.924046875,\n",
       "  0.957984375,\n",
       "  0.971484375,\n",
       "  0.976765625,\n",
       "  0.98084375,\n",
       "  0.98378125,\n",
       "  0.985390625,\n",
       "  0.9863125,\n",
       "  0.987609375,\n",
       "  0.989359375,\n",
       "  0.990953125,\n",
       "  0.990546875],\n",
       " 'digit_0_loss': [3.586136291503906,\n",
       "  3.3478542776107787,\n",
       "  0.9154006935358048,\n",
       "  0.23222777158021926,\n",
       "  0.12433241388201713,\n",
       "  0.0843389997035265,\n",
       "  0.06958779537677764,\n",
       "  0.05838069211691618,\n",
       "  0.05279234378039837,\n",
       "  0.04573429611325264,\n",
       "  0.05296040728315711,\n",
       "  0.037982806196436285,\n",
       "  0.03399750027433038,\n",
       "  0.03271822387166321,\n",
       "  0.029677180115133525],\n",
       " 'digit_1_acc': [0.02790625,\n",
       "  0.22925,\n",
       "  0.832046875,\n",
       "  0.941203125,\n",
       "  0.95703125,\n",
       "  0.96375,\n",
       "  0.9663125,\n",
       "  0.969703125,\n",
       "  0.97178125,\n",
       "  0.97425,\n",
       "  0.975921875,\n",
       "  0.976859375,\n",
       "  0.977796875,\n",
       "  0.978625,\n",
       "  0.97853125],\n",
       " 'digit_1_loss': [3.583859649658203,\n",
       "  2.732372127532959,\n",
       "  0.6120246464014053,\n",
       "  0.2926597466468811,\n",
       "  0.24302636405825614,\n",
       "  0.22969382826983928,\n",
       "  0.22634259118139743,\n",
       "  0.20942787360399961,\n",
       "  0.20865578705072402,\n",
       "  0.19498025777190925,\n",
       "  0.1861419509500265,\n",
       "  0.1840632460936904,\n",
       "  0.18036835639178753,\n",
       "  0.17776748499274253,\n",
       "  0.1775151552706957],\n",
       " 'digit_2_acc': [0.029421875,\n",
       "  0.2123125,\n",
       "  0.78996875,\n",
       "  0.91578125,\n",
       "  0.94146875,\n",
       "  0.952484375,\n",
       "  0.9590625,\n",
       "  0.96303125,\n",
       "  0.965015625,\n",
       "  0.9694375,\n",
       "  0.97228125,\n",
       "  0.972703125,\n",
       "  0.97440625,\n",
       "  0.97525,\n",
       "  0.975453125],\n",
       " 'digit_2_loss': [3.584246266365051,\n",
       "  2.8290184302330017,\n",
       "  0.7739600105285644,\n",
       "  0.37639221131801603,\n",
       "  0.29198724472522736,\n",
       "  0.2603662725389004,\n",
       "  0.2494441306143999,\n",
       "  0.2315518191754818,\n",
       "  0.2282911425679922,\n",
       "  0.21207042679190635,\n",
       "  0.19684242597967386,\n",
       "  0.19619199404865503,\n",
       "  0.1908474369123578,\n",
       "  0.19048964139819144,\n",
       "  0.18522782239317895],\n",
       " 'digit_3_acc': [0.0286875,\n",
       "  0.221328125,\n",
       "  0.81525,\n",
       "  0.93278125,\n",
       "  0.95746875,\n",
       "  0.9674375,\n",
       "  0.973828125,\n",
       "  0.977875,\n",
       "  0.980796875,\n",
       "  0.983234375,\n",
       "  0.984609375,\n",
       "  0.98553125,\n",
       "  0.98778125,\n",
       "  0.988625,\n",
       "  0.98934375],\n",
       " 'digit_3_loss': [3.5842609062194826,\n",
       "  2.767211985588074,\n",
       "  0.5980135617256165,\n",
       "  0.2160422596335411,\n",
       "  0.131124595195055,\n",
       "  0.09679145814478397,\n",
       "  0.07755275277793408,\n",
       "  0.06721444415673614,\n",
       "  0.058881687588989734,\n",
       "  0.05199506428465247,\n",
       "  0.05729713795334101,\n",
       "  0.045288086522370576,\n",
       "  0.03755345514044166,\n",
       "  0.039021284649148585,\n",
       "  0.034649085979908706],\n",
       " 'loss': [14.338503078460693,\n",
       "  11.676456768035889,\n",
       "  2.899398913860321,\n",
       "  1.1173219902515412,\n",
       "  0.7904706138372422,\n",
       "  0.6711905580163002,\n",
       "  0.6229272682666779,\n",
       "  0.5665748285651206,\n",
       "  0.5486209587454796,\n",
       "  0.5047800436019897,\n",
       "  0.4932419193983078,\n",
       "  0.4635261317193508,\n",
       "  0.44276674833893775,\n",
       "  0.4399966358840465,\n",
       "  0.4270692427158356],\n",
       " 'val_digit_0_acc': [0.029296875,\n",
       "  0.435546875,\n",
       "  0.9208984375,\n",
       "  0.966796875,\n",
       "  0.984375,\n",
       "  0.982421875,\n",
       "  0.9921875,\n",
       "  0.982421875,\n",
       "  0.98828125,\n",
       "  0.9912109375,\n",
       "  0.9921875,\n",
       "  0.9921875,\n",
       "  0.986328125,\n",
       "  0.9892578125,\n",
       "  0.9873046875],\n",
       " 'val_digit_0_loss': [3.5833320021629333,\n",
       "  1.8569528758525848,\n",
       "  0.2455207109451294,\n",
       "  0.11074400134384632,\n",
       "  0.06867886893451214,\n",
       "  0.08691792003810406,\n",
       "  0.02342029451392591,\n",
       "  0.04349258216097951,\n",
       "  0.021151840686798096,\n",
       "  0.04095721850171685,\n",
       "  0.03822441981174052,\n",
       "  0.039010186679661274,\n",
       "  0.04958237800747156,\n",
       "  0.0348628219217062,\n",
       "  0.04604535736143589],\n",
       " 'val_digit_1_acc': [0.033203125,\n",
       "  0.6767578125,\n",
       "  0.9326171875,\n",
       "  0.953125,\n",
       "  0.9541015625,\n",
       "  0.958984375,\n",
       "  0.9599609375,\n",
       "  0.9453125,\n",
       "  0.962890625,\n",
       "  0.9638671875,\n",
       "  0.9599609375,\n",
       "  0.9658203125,\n",
       "  0.9677734375,\n",
       "  0.9658203125,\n",
       "  0.9658203125],\n",
       " 'val_digit_1_loss': [3.5746442079544067,\n",
       "  1.1778240501880646,\n",
       "  0.4118489697575569,\n",
       "  0.4369017034769058,\n",
       "  0.38870038092136383,\n",
       "  0.3598857522010803,\n",
       "  0.4180453345179558,\n",
       "  0.4075583890080452,\n",
       "  0.3981228619813919,\n",
       "  0.3402472548186779,\n",
       "  0.39875639975070953,\n",
       "  0.36300334334373474,\n",
       "  0.32129450887441635,\n",
       "  0.360893115401268,\n",
       "  0.32463062554597855],\n",
       " 'val_digit_2_acc': [0.033203125,\n",
       "  0.60546875,\n",
       "  0.90625,\n",
       "  0.9306640625,\n",
       "  0.9423828125,\n",
       "  0.9462890625,\n",
       "  0.95703125,\n",
       "  0.95703125,\n",
       "  0.9541015625,\n",
       "  0.96484375,\n",
       "  0.958984375,\n",
       "  0.962890625,\n",
       "  0.962890625,\n",
       "  0.966796875,\n",
       "  0.9599609375],\n",
       " 'val_digit_2_loss': [3.583079516887665,\n",
       "  1.44657963514328,\n",
       "  0.5128342136740685,\n",
       "  0.42601625621318817,\n",
       "  0.3980616629123688,\n",
       "  0.3649621158838272,\n",
       "  0.432244136929512,\n",
       "  0.34547580778598785,\n",
       "  0.4037327915430069,\n",
       "  0.3244115710258484,\n",
       "  0.36112629622220993,\n",
       "  0.3342927396297455,\n",
       "  0.3194315880537033,\n",
       "  0.3414151072502136,\n",
       "  0.3525828793644905],\n",
       " 'val_digit_3_acc': [0.029296875,\n",
       "  0.646484375,\n",
       "  0.927734375,\n",
       "  0.9716796875,\n",
       "  0.9716796875,\n",
       "  0.9755859375,\n",
       "  0.9765625,\n",
       "  0.986328125,\n",
       "  0.9794921875,\n",
       "  0.986328125,\n",
       "  0.994140625,\n",
       "  0.994140625,\n",
       "  0.9912109375,\n",
       "  0.986328125,\n",
       "  0.9853515625],\n",
       " 'val_digit_3_loss': [3.5827078819274902,\n",
       "  1.086301028728485,\n",
       "  0.24242041260004044,\n",
       "  0.11516769416630268,\n",
       "  0.10064400359988213,\n",
       "  0.0997786894440651,\n",
       "  0.054985536262393,\n",
       "  0.04518925305455923,\n",
       "  0.05644272919744253,\n",
       "  0.03790323529392481,\n",
       "  0.03929665917530656,\n",
       "  0.03191377921029925,\n",
       "  0.023381168022751808,\n",
       "  0.03139229491353035,\n",
       "  0.048504983307793736],\n",
       " 'val_loss': [14.323763370513916,\n",
       "  5.5676573514938354,\n",
       "  1.4126242995262146,\n",
       "  1.0888296365737915,\n",
       "  0.9560848921537399,\n",
       "  0.9115444868803024,\n",
       "  0.9286952912807465,\n",
       "  0.8417160362005234,\n",
       "  0.8794502317905426,\n",
       "  0.7435192912817001,\n",
       "  0.8374037891626358,\n",
       "  0.7682200521230698,\n",
       "  0.7136896401643753,\n",
       "  0.7685633152723312,\n",
       "  0.7717638462781906]}"
      ]
     },
     "execution_count": 8,
     "metadata": {},
     "output_type": "execute_result"
    }
   ],
   "source": [
    "h.history"
   ]
  },
  {
   "cell_type": "code",
   "execution_count": 12,
   "metadata": {},
   "outputs": [
    {
     "name": "stdout",
     "output_type": "stream",
     "text": [
      "Populating the interactive namespace from numpy and matplotlib\n"
     ]
    },
    {
     "data": {
      "text/plain": [
       "[<matplotlib.lines.Line2D at 0x204eb9b5940>]"
      ]
     },
     "execution_count": 12,
     "metadata": {},
     "output_type": "execute_result"
    },
    {
     "data": {
      "image/png": "[encoded data removed]",
      "text/plain": [
       "<matplotlib.figure.Figure at 0x204eba7bb00>"
      ]
     },
     "metadata": {},
     "output_type": "display_data"
    }
   ],
   "source": [
    "%pylab inline\n",
    "pt0 = h.history['digit_0_acc']\n",
    "pt1 = h.history['digit_1_acc']\n",
    "pt2 = h.history['digit_2_acc']\n",
    "pt3 = h.history['digit_3_acc']\n",
    "pv0 = h.history['val_digit_0_acc']\n",
    "pv1 = h.history['val_digit_1_acc']\n",
    "pv2 = h.history['val_digit_2_acc']\n",
    "pv3 = h.history['val_digit_3_acc']\n",
    "plot(pt0[2:], 'r-')\n",
    "plot(pt1[2:], 'r--')\n",
    "plot(pt2[2:], 'r-.')\n",
    "plot(pt3[2:], 'r:')\n",
    "plot(pv0[2:], 'g-')\n",
    "plot(pv1[2:], 'g--')\n",
    "plot(pv2[2:], 'g-.')\n",
    "plot(pv3[2:], 'g:')\n",
    "#print(np.max(pt), np.max(pv), np.argmax(pv)) "
   ]
  },
  {
   "cell_type": "markdown",
   "metadata": {},
   "source": [
    "# Testing accuracy of trained model"
   ]
  },
  {
   "cell_type": "code",
   "execution_count": 17,
   "metadata": {
    "scrolled": true
   },
   "outputs": [
    {
     "name": "stdout",
     "output_type": "stream",
     "text": [
      "0NWF ONWF\n",
      "IMB0 IMBO\n",
      "RDOW RD0W\n",
      "DRY0 DRYO\n",
      "83ON 830N\n",
      "VO3D V03D\n",
      "0Z1Y OZ1Y\n",
      "0JXS OJXS\n",
      "0ICO 0IC0\n",
      "WN80 WN8O\n",
      "3K0E 3KHR\n",
      "3O2R 302R\n",
      "LOM9 L0M9\n",
      "NP0J NPOJ\n",
      "3Z0K 3ZOK\n",
      "S40E S4OE\n",
      "LN80 LN8O\n",
      "60UI 6OUI\n",
      "QR08 QRO8\n",
      "HJLU HJUU\n",
      "HWG0 HWGO\n",
      "V40B V4OB\n",
      "1SW0 1SWO\n",
      "0LTQ OLTQ\n",
      "0QXB OQXB\n",
      "0C1R OC1R\n",
      "JKO5 JK05\n",
      "BDA0 BDAO\n",
      "ZCSJ LCSD\n",
      "J20A J2OA\n",
      "0RFL ORFL\n",
      "5HDP SHDP\n",
      "EOVU E0VU\n",
      "A0MX AOMX\n",
      "0PLK OPLK\n",
      "0UHC OUHC\n",
      "LTF0 LTFO\n",
      "0.963\n"
     ]
    }
   ],
   "source": [
    "def evaluate(model, test_num=1000):\n",
    "    correct = 0\n",
    "    generator = gen(1,save_img = True, save_dir = 'test_img/')\n",
    "    for i in range(test_num):\n",
    "        X, y = next(generator)\n",
    "        y_pred = model.predict(X)\n",
    "        y = decode(y)\n",
    "        y_pred = decode(y_pred)\n",
    "        #print(y, y_pred)\n",
    "        if y == y_pred:\n",
    "            correct += 1\n",
    "        else:\n",
    "            print(y, y_pred) #print wrong prediction\n",
    "    return correct / test_num\n",
    "\n",
    "test_acc = evaluate(model)\n",
    "print(test_acc)"
   ]
  },
  {
   "cell_type": "markdown",
   "metadata": {},
   "source": [
    "# Test Sample"
   ]
  },
  {
   "cell_type": "code",
   "execution_count": 18,
   "metadata": {},
   "outputs": [
    {
     "data": {
      "text/plain": [
       "(-0.5, 139.5, 79.5, -0.5)"
      ]
     },
     "execution_count": 18,
     "metadata": {},
     "output_type": "execute_result"
    },
    {
     "data": {
      "image/png": "[encoded data removed]",
      "text/plain": [
       "<matplotlib.figure.Figure at 0x204eb9bb588>"
      ]
     },
     "metadata": {},
     "output_type": "display_data"
    }
   ],
   "source": [
    "X, y = next(gen(1))\n",
    "y_pred = model.predict(X)\n",
    "plt.title('Real: %s    Predict: %s'%(decode(y), decode(y_pred)))\n",
    "plt.imshow(X[0], cmap='gray')\n",
    "plt.axis('off')"
   ]
  },
  {
   "cell_type": "markdown",
   "metadata": {},
   "source": [
    "# Save/Load model"
   ]
  },
  {
   "cell_type": "code",
   "execution_count": 19,
   "metadata": {},
   "outputs": [],
   "source": [
    "model.save('CAPTCHA_Cracker_3.h5')"
   ]
  },
  {
   "cell_type": "code",
   "execution_count": 6,
   "metadata": {},
   "outputs": [],
   "source": [
    "from keras.models import load_model\n",
    "model = load_model('trained_cnn.h5')"
   ]
  },
  {
   "cell_type": "code",
   "execution_count": null,
   "metadata": {},
   "outputs": [],
   "source": []
  }
 ],
 "metadata": {
  "kernelspec": {
   "display_name": "Python 3",
   "language": "python",
   "name": "python3"
  },
  "language_info": {
   "codemirror_mode": {
    "name": "ipython",
    "version": 3
   },
   "file_extension": ".py",
   "mimetype": "text/x-python",
   "name": "python",
   "nbconvert_exporter": "python",
   "pygments_lexer": "ipython3",
   "version": "3.5.4"
  }
 },
 "nbformat": 4,
 "nbformat_minor": 2
}
